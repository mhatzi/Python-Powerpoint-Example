{
 "cells": [
  {
   "cell_type": "code",
   "execution_count": 142,
   "metadata": {},
   "outputs": [
    {
     "name": "stdout",
     "output_type": "stream",
     "text": [
      "C:\\Users\\mh\\Documents\\GitHub\\PowerPointExample\\Results.pptx\n"
     ]
    }
   ],
   "source": [
    "path = r\"C:\\Users\\mh\\Documents\\GitHub\\PowerPointExample\" #Link to location where pictures are\n",
    "prespath = r\"C:\\Users\\mh\\Documents\\GitHub\\PowerPointExample\\Template.pptx\" #Its best to have a predefined template to categorize the titus first\n",
    "saveto = os.path.join(os.path.dirname(prespath),'Results.pptx')\n",
    "print(saveto)\n",
    "os.pathsep\n",
    "import pptx, os\n",
    "from pptx.util import Inches, Pt\n",
    "from pptx.enum.text import PP_ALIGN"
   ]
  },
  {
   "cell_type": "code",
   "execution_count": 149,
   "metadata": {},
   "outputs": [],
   "source": [
    "files = os.listdir(path)\n",
    "pres = pptx.Presentation(prespath)\n",
    "titleslide = pres.slides[0]\n",
    "layout = pres.slide_layouts[1]\n",
    "titleslide.shapes.title.text=\"Automatic Picture Pulling\"\n",
    "titleslide.shapes[1].text = \"By Meghan Hatzipetro\"\n",
    "files.sort() #Sort files alphabetically\n",
    "slidecount = 1\n",
    "for file in files:\n",
    "    if any(item in file.lower() for item in ['.jpg','.png','.gif']): #Grabs any picture in file repo\n",
    "        picpath=os.path.join(path,file)\n",
    "        pres.slides.add_slide(layout)\n",
    "        left = Inches(2.5)\n",
    "        top= Inches(2)\n",
    "        width = Inches(8)\n",
    "        height = Inches(5)\n",
    "        pres.slides[slidecount].shapes.add_picture(picpath, left, top, width=width, height=height)\n",
    "        pres.slides[slidecount].shapes.title.text = file.split(\".\")[0].replace('_',' ')\n",
    "        if slidecount >2:\n",
    "            top = pres.slide_height\n",
    "            txtbox = pres.slides[slidecount].shapes.add_textbox(left, pres.slide_height-Pt(24), width,height)\n",
    "            frame = txtbox.text_frame.paragraphs[0]\n",
    "            frame.alignment = PP_ALIGN.CENTER\n",
    "            run = frame.add_run()\n",
    "            run.text = \"Even programmers like to have a little fun...\"\n",
    "            font = run.font\n",
    "            font.name = 'Calibri'\n",
    "            font.size = Pt(18)\n",
    "            font.bold = True\n",
    "            font.italic = True\n",
    "            txtbox.left = int((pres.slide_width-txtbox.width)/2)\n",
    "        slidecount = slidecount+1\n",
    "pres.save(saveto)"
   ]
  },
  {
   "cell_type": "code",
   "execution_count": null,
   "metadata": {},
   "outputs": [],
   "source": []
  }
 ],
 "metadata": {
  "kernelspec": {
   "display_name": "Python 3",
   "language": "python",
   "name": "python3"
  },
  "language_info": {
   "codemirror_mode": {
    "name": "ipython",
    "version": 3
   },
   "file_extension": ".py",
   "mimetype": "text/x-python",
   "name": "python",
   "nbconvert_exporter": "python",
   "pygments_lexer": "ipython3",
   "version": "3.6.4"
  }
 },
 "nbformat": 4,
 "nbformat_minor": 2
}
